{
 "cells": [
  {
   "cell_type": "code",
   "execution_count": 5,
   "metadata": {},
   "outputs": [
    {
     "name": "stdout",
     "output_type": "stream",
     "text": [
      "[['human', 'interface', 'computer'], ['survey', 'user', 'computer', 'system', 'response', 'time'], ['eps', 'user', 'interface', 'system'], ['system', 'human', 'system', 'eps'], ['user', 'response', 'time'], ['trees'], ['graph', 'trees'], ['graph', 'minors', 'trees'], ['graph', 'minors', 'survey']]\n"
     ]
    },
    {
     "data": {
      "text/plain": [
       "<gensim.models.fasttext.FastText at 0x11d5859e8>"
      ]
     },
     "execution_count": 5,
     "metadata": {},
     "output_type": "execute_result"
    }
   ],
   "source": [
    "import gensim\n",
    "from gensim.models import FastText\n",
    "from gensim.test.utils import common_texts\n",
    "\n",
    "print(common_texts)\n",
    "\n",
    "\n",
    "model_ft = FastText(size=5, min_count=1)\n",
    "model_ft.build_vocab(sentences=common_texts)\n",
    "model_ft.train(sentences=common_texts, total_examples=len(common_texts), epochs=10)\n",
    "model_ft"
   ]
  },
  {
   "cell_type": "code",
   "execution_count": 21,
   "metadata": {},
   "outputs": [],
   "source": [
    "#dir(model_ft.vocabulary)\n",
    "#dir(model_ft.wv.vocab)#['computer']\n",
    "model_ft.save(\"test.model\")"
   ]
  },
  {
   "cell_type": "code",
   "execution_count": 15,
   "metadata": {},
   "outputs": [
    {
     "data": {
      "text/plain": [
       "{'computer': <gensim.models.keyedvectors.Vocab at 0x11d5858d0>,\n",
       " 'eps': <gensim.models.keyedvectors.Vocab at 0x11d585518>,\n",
       " 'graph': <gensim.models.keyedvectors.Vocab at 0x11d5854a8>,\n",
       " 'human': <gensim.models.keyedvectors.Vocab at 0x11d585978>,\n",
       " 'interface': <gensim.models.keyedvectors.Vocab at 0x11d585908>,\n",
       " 'minors': <gensim.models.keyedvectors.Vocab at 0x11d585470>,\n",
       " 'response': <gensim.models.keyedvectors.Vocab at 0x11d5855c0>,\n",
       " 'survey': <gensim.models.keyedvectors.Vocab at 0x11d585550>,\n",
       " 'system': <gensim.models.keyedvectors.Vocab at 0x11d5854e0>,\n",
       " 'time': <gensim.models.keyedvectors.Vocab at 0x11d585940>,\n",
       " 'trees': <gensim.models.keyedvectors.Vocab at 0x11d5855f8>,\n",
       " 'user': <gensim.models.keyedvectors.Vocab at 0x11d585588>}"
      ]
     },
     "execution_count": 15,
     "metadata": {},
     "output_type": "execute_result"
    }
   ],
   "source": [
    "model_ft.wv.vocab"
   ]
  },
  {
   "cell_type": "code",
   "execution_count": 20,
   "metadata": {},
   "outputs": [
    {
     "data": {
      "text/plain": [
       "[-0.035001490265131,\n",
       " -0.00809740275144577,\n",
       " 0.01750566065311432,\n",
       " -0.03750506788492203,\n",
       " 0.03730582818388939]"
      ]
     },
     "execution_count": 20,
     "metadata": {},
     "output_type": "execute_result"
    }
   ],
   "source": [
    "model_ft.wv[\"time\"].tolist()"
   ]
  },
  {
   "cell_type": "code",
   "execution_count": 29,
   "metadata": {},
   "outputs": [
    {
     "name": "stdout",
     "output_type": "stream",
     "text": [
      "human [-0.01132756  0.01409738  0.04774577  0.01412783  0.00770183]\n",
      "computer [-0.00130168 -0.01909505  0.01059208  0.00423354  0.02483471]\n",
      "interface [ 0.00099925  0.0421431   0.00959919  0.0031688  -0.00827794]\n",
      "time [-0.03500149 -0.0080974   0.01750566 -0.03750507  0.03730583]\n",
      "minors [ 0.01089878  0.04642535 -0.03265515 -0.00886882 -0.00991796]\n",
      "graph [-0.03078807  0.02367379  0.03394236 -0.03043788 -0.04659058]\n",
      "user [-0.09567413  0.00376089 -0.04554972  0.01639676 -0.00488534]\n",
      "eps [ 0.09038458  0.05576516 -0.06586993  0.06147852 -0.02780395]\n",
      "survey [-0.03567455  0.03603553  0.01328478  0.00293961 -0.02007984]\n",
      "system [ 0.0260949  -0.00028982 -0.02077642 -0.0085357   0.03252714]\n",
      "response [-0.0417905  -0.00754026 -0.04451792  0.01676009  0.00408636]\n",
      "trees [-0.050333   -0.00055211 -0.02827794  0.02073353  0.04018432]\n"
     ]
    }
   ],
   "source": [
    "def gensim_FastText_model_to_textFile(modelPath):\n",
    "    \n",
    "    # load FastText_model\n",
    "    model = FastText.load(modelPath)\n",
    "    \n",
    "    with open('out.txt', 'w') as f:\n",
    "        f.write(str(len(model.wv.vocab.keys()))+\" \"+str(len(model.wv[list(model.wv.vocab.keys())[0]]))+\"\\n\")\n",
    "        for word in model.wv.vocab.keys():\n",
    "            f.write(word+\" \")\n",
    "            for value in model.wv[word]: f.write(str(value)+\" \")\n",
    "            f.write(\"\\n\")\n",
    "            #print(word, model.wv[word])\n",
    "        \n",
    "    \n",
    "gensim_FastText_model_to_textFile(\"test.model\")"
   ]
  },
  {
   "cell_type": "code",
   "execution_count": null,
   "metadata": {},
   "outputs": [],
   "source": []
  }
 ],
 "metadata": {
  "kernelspec": {
   "display_name": "Python [conda env:dataScienceEnv]",
   "language": "python",
   "name": "conda-env-dataScienceEnv-py"
  },
  "language_info": {
   "codemirror_mode": {
    "name": "ipython",
    "version": 3
   },
   "file_extension": ".py",
   "mimetype": "text/x-python",
   "name": "python",
   "nbconvert_exporter": "python",
   "pygments_lexer": "ipython3",
   "version": "3.5.4"
  }
 },
 "nbformat": 4,
 "nbformat_minor": 2
}
