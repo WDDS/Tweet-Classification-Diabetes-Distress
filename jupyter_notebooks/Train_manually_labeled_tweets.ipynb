{
 "cells": [
  {
   "cell_type": "code",
   "execution_count": 136,
   "metadata": {},
   "outputs": [],
   "source": [
    "from pymongo import MongoClient\n",
    "from pprint import pprint\n",
    "import igraph\n",
    "import numpy as np\n",
    "import scipy\n",
    "import pandas as pd\n",
    "import sys\n",
    "import pymongo\n",
    "import gensim\n",
    "import re\n",
    "from gensim import models, corpora\n",
    "from nltk import word_tokenize\n",
    "from nltk.corpus import stopwords\n",
    "import spacy\n",
    "from sklearn.decomposition import LatentDirichletAllocation\n",
    "from sklearn.feature_extraction.text import CountVectorizer\n",
    "from html import unescape\n",
    "from sklearn.pipeline import Pipeline\n",
    "from sklearn.naive_bayes import MultinomialNB\n",
    "from sklearn.model_selection import GridSearchCV, cross_val_predict\n",
    "from sklearn.feature_extraction.text import TfidfTransformer\n",
    "from sklearn.svm import SVC, LinearSVC\n",
    "from sklearn.cross_validation import cross_val_score\n",
    "from sklearn.ensemble import RandomForestClassifier\n",
    "from sklearn.metrics import confusion_matrix \n",
    "\n",
    " \n",
    "\n",
    "try:\n",
    "    client = MongoClient('localhost', 27017) # host, port\n",
    "except ConnectionFailure as e:\n",
    "    sys.stderr.write(\"Could not connect to MongoDB: %s\" % e)\n",
    "    sys.exit(1)"
   ]
  },
  {
   "cell_type": "code",
   "execution_count": 137,
   "metadata": {},
   "outputs": [
    {
     "data": {
      "text/plain": [
       "['filtered_tweets_noRetweets_english',\n",
       " 'users',\n",
       " 'manually_labelled_tweets',\n",
       " 'filtered_treated_tweets',\n",
       " 'filtered_noRetweets_english_onlyPersonal',\n",
       " 'tweets']"
      ]
     },
     "execution_count": 137,
     "metadata": {},
     "output_type": "execute_result"
    }
   ],
   "source": [
    "# get database with all tweets\n",
    "db = client.tweets_database\n",
    "\n",
    "#client.tweets_database.manually_labelled_tweets.drop()\n",
    "\n",
    "\n",
    "#filtered_noRetweets_english_onlyPersonal = client.tweets_database.filtered_noRetweets_english_onlyPersonal\n",
    "\n",
    "filtered_tweets_noRetweets_english = db.filtered_tweets_noRetweets_english\n",
    "\n",
    "manually_labelled_tweets = db.manually_labelled_tweets\n",
    "\n",
    "\n",
    "db.collection_names()"
   ]
  },
  {
   "cell_type": "code",
   "execution_count": 75,
   "metadata": {},
   "outputs": [],
   "source": [
    "import sys\n",
    "path = 'D:\\A_AHNE1\\Tweet-Classification-Diabetes-Distress\\preprocess'\n",
    "\n",
    "if path not in sys.path:\n",
    "    sys.path.insert(0, path)\n",
    "sys.path\n",
    "\n",
    "from preprocess import Preprocess\n",
    "prep = Preprocess()"
   ]
  },
  {
   "cell_type": "code",
   "execution_count": 76,
   "metadata": {},
   "outputs": [
    {
     "data": {
      "text/html": [
       "<div>\n",
       "<style scoped>\n",
       "    .dataframe tbody tr th:only-of-type {\n",
       "        vertical-align: middle;\n",
       "    }\n",
       "\n",
       "    .dataframe tbody tr th {\n",
       "        vertical-align: top;\n",
       "    }\n",
       "\n",
       "    .dataframe thead th {\n",
       "        text-align: right;\n",
       "    }\n",
       "</style>\n",
       "<table border=\"1\" class=\"dataframe\">\n",
       "  <thead>\n",
       "    <tr style=\"text-align: right;\">\n",
       "      <th></th>\n",
       "      <th>Unnamed: 0</th>\n",
       "      <th>user_name</th>\n",
       "      <th>tweet</th>\n",
       "      <th>personal (0=no, 1=yes)</th>\n",
       "      <th>tweet_proc</th>\n",
       "    </tr>\n",
       "  </thead>\n",
       "  <tbody>\n",
       "    <tr>\n",
       "      <th>0</th>\n",
       "      <td>0</td>\n",
       "      <td>_JenniferLyne</td>\n",
       "      <td>Seven yoga poses for diabetes https://t.co/B68...</td>\n",
       "      <td>0</td>\n",
       "      <td>['seven', 'yoga', 'pose', 'diabet', 'URL']</td>\n",
       "    </tr>\n",
       "    <tr>\n",
       "      <th>1</th>\n",
       "      <td>1</td>\n",
       "      <td>marguerite3636d</td>\n",
       "      <td>#reversediabetes now ➤ https://t.co/PDEsqoaou8...</td>\n",
       "      <td>0</td>\n",
       "      <td>['reversediabet', 'URL', 'could', 'tb', 'vacci...</td>\n",
       "    </tr>\n",
       "    <tr>\n",
       "      <th>2</th>\n",
       "      <td>2</td>\n",
       "      <td>amandajohnjones</td>\n",
       "      <td>The occurrence of #hypoglycemia can pose a ser...</td>\n",
       "      <td>0</td>\n",
       "      <td>['occurr', 'hypoglycemia', 'pose', 'serious', ...</td>\n",
       "    </tr>\n",
       "    <tr>\n",
       "      <th>3</th>\n",
       "      <td>3</td>\n",
       "      <td>Healthcheqs</td>\n",
       "      <td>Others talk - we help! Improve public #health ...</td>\n",
       "      <td>0</td>\n",
       "      <td>['other', 'talk', 'help', 'improv', 'public', ...</td>\n",
       "    </tr>\n",
       "    <tr>\n",
       "      <th>4</th>\n",
       "      <td>4</td>\n",
       "      <td>70_130</td>\n",
       "      <td>A three-month road trip (by a real diabetic) t...</td>\n",
       "      <td>1</td>\n",
       "      <td>['three-month', 'road', 'trip', 'real', 'diabe...</td>\n",
       "    </tr>\n",
       "  </tbody>\n",
       "</table>\n",
       "</div>"
      ],
      "text/plain": [
       "   Unnamed: 0        user_name  \\\n",
       "0           0    _JenniferLyne   \n",
       "1           1  marguerite3636d   \n",
       "2           2  amandajohnjones   \n",
       "3           3      Healthcheqs   \n",
       "4           4           70_130   \n",
       "\n",
       "                                               tweet  personal (0=no, 1=yes)  \\\n",
       "0  Seven yoga poses for diabetes https://t.co/B68...                       0   \n",
       "1  #reversediabetes now ➤ https://t.co/PDEsqoaou8...                       0   \n",
       "2  The occurrence of #hypoglycemia can pose a ser...                       0   \n",
       "3  Others talk - we help! Improve public #health ...                       0   \n",
       "4  A three-month road trip (by a real diabetic) t...                       1   \n",
       "\n",
       "                                          tweet_proc  \n",
       "0         ['seven', 'yoga', 'pose', 'diabet', 'URL']  \n",
       "1  ['reversediabet', 'URL', 'could', 'tb', 'vacci...  \n",
       "2  ['occurr', 'hypoglycemia', 'pose', 'serious', ...  \n",
       "3  ['other', 'talk', 'help', 'improv', 'public', ...  \n",
       "4  ['three-month', 'road', 'trip', 'real', 'diabe...  "
      ]
     },
     "execution_count": 76,
     "metadata": {},
     "output_type": "execute_result"
    }
   ],
   "source": [
    "tweets_csv = pd.read_csv(\"D:\\A_AHNE1\\Tweet-Classification-Diabetes-Distress\\manually_labeled_tweets_users_instVSpers_noNeg.csv\",\n",
    "                         sep=\";\")\n",
    "tweets_csv.head()"
   ]
  },
  {
   "cell_type": "code",
   "execution_count": 77,
   "metadata": {},
   "outputs": [
    {
     "data": {
      "text/plain": [
       "0    669\n",
       "1    645\n",
       "Name: personal (0=no, 1=yes), dtype: int64"
      ]
     },
     "execution_count": 77,
     "metadata": {},
     "output_type": "execute_result"
    }
   ],
   "source": [
    "labels = tweets_csv[\"personal (0=no, 1=yes)\"]\n",
    "tweets = tweets_csv[\"tweet_proc\"]\n",
    "labels.value_counts()"
   ]
  },
  {
   "cell_type": "code",
   "execution_count": 78,
   "metadata": {},
   "outputs": [],
   "source": [
    "class CustomVectorizer(CountVectorizer):\n",
    "    # overwrite the build_analyzer method, allowing one to\n",
    "    # create a custom analyzer for the vectorizer\n",
    "        def build_analyzer(self):\n",
    "            # load stop words using CountVectorizer's built in method\n",
    "            stop_words = self.get_stop_words()\n",
    "            \n",
    "            # create the analyzer that will be returned by this method\n",
    "            def analyser(tweet):\n",
    "                #print(\"tweet\")\n",
    "                #print(tweet)\n",
    "\n",
    "                tweet = prep.replace_contractions(tweet)\n",
    "                tweet = prep.replace_hashtags_URL_USER(tweet)\n",
    "                tweet = prep.tokenize(tweet)\n",
    "                tweet = prep.remove_punctuation(tweet)\n",
    "\n",
    "                tweet = prep.preprocess_emojis(tweet)\n",
    "                tweet = prep.preprocess_emoticons(tweet)\n",
    "                tweet = prep.remove_non_ascii(tweet)\n",
    "                tweet = prep.to_lowercase(tweet)\n",
    "\n",
    "                tweet = prep.remove_stopwords(tweet)\n",
    "                tweet = prep.lemmatize_verbs(tweet)\n",
    "                tweet = prep.stem_words(tweet)\n",
    "#                tweet = [ x for x in tweet if x not in[\"diabet\", \"glucos\", \"insulin\", \"type\", \"1\", \"2\", \"\", \"get\", \"sugar\", \"would\",\n",
    "#                                                      \"go\", \"know\", \"take\", \"give\", \"say\", \"one\", \"could\", \"would\", \"people\", \"look\",\n",
    "#                                                      \"year\", \"test\", \"see\", \"oh\", \"via\", \"bitch\", \"daddi\", \"hi\", \"w\", \"b\", \"n\", \"c\",\n",
    "#                                                      \"ii\", \"dr\", \"rt\", \"bc\", \"ok\", \"think\", \"make\"] ]\n",
    "\n",
    "                return tweet\n",
    "            \n",
    "            return(analyser)"
   ]
  },
  {
   "cell_type": "code",
   "execution_count": 6,
   "metadata": {},
   "outputs": [],
   "source": [
    "# min_df : ignores terms that have a document frequency strictly lower than the given threshold (absolute counts)\n",
    "# max_df : ignores terms that have a document frequency strictly higher than the given threshold (proportion of documents)\n",
    "vectorizer_test = CustomVectorizer(min_df=5, max_df=0.9, \n",
    "                                     stop_words=None, lowercase=True, analyzer = 'word' )"
   ]
  },
  {
   "cell_type": "code",
   "execution_count": 95,
   "metadata": {},
   "outputs": [],
   "source": [
    "#model = MultinomialNB()\n",
    "#model = SVC()\n",
    "model = RandomForestClassifier()\n",
    "text_clf = Pipeline([('vect', CountVectorizer()),\n",
    "                      ('tfidf', TfidfTransformer()),\n",
    "                      ('model', model),\n",
    "])\n",
    "\n",
    "\n",
    "#text_clf = text_clf.fit(tweets, labels)\n",
    "#predicted = text_clf.predict(twenty_test.data)"
   ]
  },
  {
   "cell_type": "code",
   "execution_count": 84,
   "metadata": {},
   "outputs": [
    {
     "name": "stdout",
     "output_type": "stream",
     "text": [
      "[0.84090909 0.82575758 0.78787879 0.78030303 0.81818182 0.88549618\n",
      " 0.83969466 0.85496183 0.90076336 0.70769231]\n",
      "0.8241638641256961\n"
     ]
    }
   ],
   "source": [
    "scores = cross_val_score(text_clf, tweets, labels, cv=10, scoring='accuracy')\n",
    "print(scores)\n",
    "print(scores.mean())"
   ]
  },
  {
   "cell_type": "code",
   "execution_count": null,
   "metadata": {},
   "outputs": [],
   "source": []
  },
  {
   "cell_type": "code",
   "execution_count": 96,
   "metadata": {},
   "outputs": [],
   "source": [
    "parameters = {'vect__ngram_range': [(1, 1), (1, 2)],\n",
    "              'vect__min_df' : [1, 5],\n",
    "              'vect__max_df' : [0.9, 1.0],\n",
    "              'tfidf__use_idf': (True, False),\n",
    "              \n",
    "              # param for MultinomialNB\n",
    "              #'model__alpha': (10, 1, 1e-1, 1e-2, 1e-3),\n",
    "              \n",
    "              # param for SVC\n",
    "              #'model__kernel' : [\"linear\", \"poly\", \"rbf\"],\n",
    "              #'model__C' : [0.1, 1.0, 5, 10, 15],\n",
    "              #'model__tol' : [1e-5, 1e-4, 1e-3],\n",
    "              \n",
    "              # param for RandomForestClassifier\n",
    "              'model__n_estimators' : [20, 30, 40],\n",
    "              'model__criterion' : ['gini', 'entropy'],\n",
    "              'model__max_features' : ['auto', 'log2', None],\n",
    "              'model__max_depth' : [10, 20, 30]\n",
    "}"
   ]
  },
  {
   "cell_type": "code",
   "execution_count": 97,
   "metadata": {
    "scrolled": true
   },
   "outputs": [
    {
     "name": "stdout",
     "output_type": "stream",
     "text": [
      "Fitting 10 folds for each of 864 candidates, totalling 8640 fits\n"
     ]
    },
    {
     "name": "stderr",
     "output_type": "stream",
     "text": [
      "[Parallel(n_jobs=-1)]: Done   9 tasks      | elapsed:   10.7s\n",
      "[Parallel(n_jobs=-1)]: Done 130 tasks      | elapsed:   20.5s\n",
      "[Parallel(n_jobs=-1)]: Done 333 tasks      | elapsed:   24.1s\n",
      "[Parallel(n_jobs=-1)]: Done 616 tasks      | elapsed:   28.8s\n",
      "[Parallel(n_jobs=-1)]: Done 981 tasks      | elapsed:   36.2s\n",
      "[Parallel(n_jobs=-1)]: Done 1426 tasks      | elapsed:  1.2min\n",
      "[Parallel(n_jobs=-1)]: Done 1953 tasks      | elapsed:  1.4min\n",
      "[Parallel(n_jobs=-1)]: Done 2560 tasks      | elapsed:  1.7min\n",
      "[Parallel(n_jobs=-1)]: Done 3249 tasks      | elapsed:  2.6min\n",
      "[Parallel(n_jobs=-1)]: Done 4018 tasks      | elapsed:  3.2min\n",
      "[Parallel(n_jobs=-1)]: Done 4869 tasks      | elapsed:  4.2min\n",
      "[Parallel(n_jobs=-1)]: Done 5800 tasks      | elapsed:  5.0min\n",
      "[Parallel(n_jobs=-1)]: Done 6813 tasks      | elapsed:  5.5min\n",
      "[Parallel(n_jobs=-1)]: Done 7906 tasks      | elapsed:  6.7min\n",
      "[Parallel(n_jobs=-1)]: Done 8640 out of 8640 | elapsed:  8.3min finished\n"
     ]
    },
    {
     "name": "stdout",
     "output_type": "stream",
     "text": [
      "\n",
      "Best: 0.838661 using {'model__n_estimators': 40, 'model__max_features': 'log2', 'vect__min_df': 5, 'vect__ngram_range': (1, 1), 'vect__max_df': 1.0, 'model__criterion': 'entropy', 'tfidf__use_idf': False, 'model__max_depth': 30}\n"
     ]
    }
   ],
   "source": [
    "grid = GridSearchCV(text_clf, parameters, cv=10, n_jobs=-1, verbose=2)\n",
    "grid = grid.fit(tweets, labels)\n",
    "\n",
    "#print(grid.cv_results_)\n",
    "print(\"\\nBest: %f using %s\" % (grid.best_score_, grid.best_params_))\n",
    "\n",
    "# with dataset where single tweets are labeled\n",
    "# MultinomialNB: Best: 0.880652 using {'tfidf__use_idf': False, 'model__alpha': 1, 'vect__ngram_range': (1, 1)}\n",
    "# SVC : Best: 0.893996 using {'vect__ngram_range': (1, 2), 'model__C': 5, 'model__kernel': 'linear', 'model__tol': 1e-05, 'tfidf__use_idf': True}\n",
    "# RandomForest: Best: 0.868792 using {'model__n_estimators': 20, 'model__max_features': 'auto', 'vect__ngram_range': (1, 1), 'model__criterion': 'entropy', 'tfidf__use_idf': False, 'model__max_depth': 30}\n",
    "\n",
    "# with dataset where users are labeled\n",
    "# MultinomialNB: Best: 0.840183 using {'tfidf__use_idf': False, 'model__alpha': 1, 'vect__min_df': 1, 'vect__ngram_range': (1, 1), 'vect__max_df': 0.9}\n",
    "# SVC : Best: 0.841705 using {'model__kernel': 'linear', 'vect__min_df': 1, 'vect__ngram_range': (1, 2), 'vect__max_df': 0.9, 'model__C': 1.0, 'tfidf__use_idf': True, 'model__tol': 1e-05}\n",
    "# RandomForest: Best: 0.838661 using {'model__n_estimators': 40, 'model__max_features': 'log2', 'vect__min_df': 5, 'vect__ngram_range': (1, 1), 'vect__max_df': 1.0, 'model__criterion': 'entropy', 'tfidf__use_idf': False, 'model__max_depth': 30}"
   ]
  },
  {
   "cell_type": "code",
   "execution_count": 98,
   "metadata": {},
   "outputs": [
    {
     "data": {
      "text/plain": [
       "array([[574,  95],\n",
       "       [128, 517]], dtype=int64)"
      ]
     },
     "execution_count": 98,
     "metadata": {},
     "output_type": "execute_result"
    }
   ],
   "source": [
    "#model = MultinomialNB()\n",
    "model = SVC()\n",
    "#model = RandomForestClassifier()\n",
    "text_clf = Pipeline([('vect', CountVectorizer(min_df=1, max_df=0.9)),\n",
    "                      ('tfidf', TfidfTransformer(use_idf=True)),\n",
    "                      #('model', MultinomialNB(alpha=1)),\n",
    "                      ('model', SVC(C=1, kernel='linear', tol=1e-5)),\n",
    "                      #('model', LinearSCV()),\n",
    "])\n",
    "\n",
    "\n",
    "y_pred = cross_val_predict(text_clf, tweets, labels, cv=10)\n",
    "conf_mat = confusion_matrix(labels, y_pred)\n",
    "conf_mat\n"
   ]
  },
  {
   "cell_type": "code",
   "execution_count": 99,
   "metadata": {},
   "outputs": [
    {
     "name": "stdout",
     "output_type": "stream",
     "text": [
      "Confusion matrix, without normalization\n",
      "[[574  95]\n",
      " [128 517]]\n"
     ]
    },
    {
     "data": {
      "image/png": "[encoded data removed]",
      "text/plain": [
       "<Figure size 432x288 with 2 Axes>"
      ]
     },
     "metadata": {},
     "output_type": "display_data"
    }
   ],
   "source": [
    "import matplotlib.pyplot as plt\n",
    "import itertools \n",
    "\n",
    "def plot_confusion_matrix(cm, classes,\n",
    "                          normalize=False,\n",
    "                          title='Confusion matrix',\n",
    "                          cmap=plt.cm.Blues):\n",
    "    \"\"\"\n",
    "    This function prints and plots the confusion matrix.\n",
    "    Normalization can be applied by setting `normalize=True`.\n",
    "    \"\"\"\n",
    "    if normalize:\n",
    "        cm = cm.astype('float') / cm.sum(axis=1)[:, np.newaxis]\n",
    "        print(\"Normalized confusion matrix\")\n",
    "    else:\n",
    "        print('Confusion matrix, without normalization')\n",
    "\n",
    "    print(cm)\n",
    "\n",
    "    plt.imshow(cm, interpolation='nearest', cmap=cmap)\n",
    "    plt.title(title)\n",
    "    plt.colorbar()\n",
    "    tick_marks = np.arange(len(classes))\n",
    "    plt.xticks(tick_marks, classes, rotation=45)\n",
    "    plt.yticks(tick_marks, classes)\n",
    "\n",
    "    fmt = '.2f' if normalize else 'd'\n",
    "    thresh = cm.max() / 2.\n",
    "    for i, j in itertools.product(range(cm.shape[0]), range(cm.shape[1])):\n",
    "        plt.text(j, i, format(cm[i, j], fmt),\n",
    "                 horizontalalignment=\"center\",\n",
    "                 color=\"white\" if cm[i, j] > thresh else \"black\")\n",
    "\n",
    "    plt.tight_layout()\n",
    "    plt.ylabel('True label')\n",
    "    plt.xlabel('Predicted label')\n",
    "    \n",
    "plt.figure()\n",
    "plot_confusion_matrix(conf_mat, classes=[\"institutional\", \"personal\"], title=\"confusion matrix\")"
   ]
  },
  {
   "cell_type": "code",
   "execution_count": 102,
   "metadata": {},
   "outputs": [
    {
     "data": {
      "text/plain": [
       "(array([0.81766382, 0.84477124]),\n",
       " array([0.85799701, 0.80155039]),\n",
       " array([0.837345  , 0.82259348]),\n",
       " array([669, 645], dtype=int64))"
      ]
     },
     "execution_count": 102,
     "metadata": {},
     "output_type": "execute_result"
    }
   ],
   "source": [
    "from sklearn.metrics import precision_recall_fscore_support\n",
    "precision_recall_fscore_support(labels, y_pred)"
   ]
  },
  {
   "cell_type": "code",
   "execution_count": 135,
   "metadata": {},
   "outputs": [],
   "source": [
    "# get FP and FN to check the wrong classified tweets\n",
    "#conf_mat = confusion_matrix(labels, y_pred)\n",
    "\n",
    "y_pred_pd = pd.DataFrame(y_pred, columns=[\"y_pred\"])\n",
    "tweets_compare = pd.concat([tweets_csv, y_pred_pd], axis=1)\n",
    "\n",
    "tweets_compare = tweets_compare[tweets_compare[\"personal (0=no, 1=yes)\"] != tweets_compare[\"y_pred\"]]\n",
    "\n",
    "tweets_compare.head(20)\n",
    "tweets_compare.to_csv(\"compare_tweets.csv\", sep=\";\")\n",
    "\n"
   ]
  },
  {
   "cell_type": "code",
   "execution_count": 142,
   "metadata": {},
   "outputs": [],
   "source": [
    "tweets_personal = tweets_csv[tweets_csv[\"personal (0=no, 1=yes)\"]==1]\n",
    "tweets_institut = tweets_csv[tweets_csv[\"personal (0=no, 1=yes)\"]==0]\n"
   ]
  },
  {
   "cell_type": "code",
   "execution_count": 145,
   "metadata": {
    "scrolled": false
   },
   "outputs": [
    {
     "name": "stdout",
     "output_type": "stream",
     "text": [
      "['three-month', 'road', 'trip', 'real', 'diabet', 'rais', 'money', 'jdrf', 'donat', 'URL']\n"
     ]
    },
    {
     "ename": "TypeError",
     "evalue": "list indices must be integers or slices, not str",
     "output_type": "error",
     "traceback": [
      "\u001b[1;31m---------------------------------------------------------------------------\u001b[0m",
      "\u001b[1;31mTypeError\u001b[0m                                 Traceback (most recent call last)",
      "\u001b[1;32m<ipython-input-145-6eff927f313f>\u001b[0m in \u001b[0;36m<module>\u001b[1;34m()\u001b[0m\n\u001b[0;32m     55\u001b[0m     \u001b[1;32melif\u001b[0m \u001b[1;34m\"USER\"\u001b[0m \u001b[1;32min\u001b[0m \u001b[0mtweet\u001b[0m\u001b[1;33m[\u001b[0m\u001b[1;36m0\u001b[0m\u001b[1;33m]\u001b[0m\u001b[1;33m:\u001b[0m\u001b[1;33m\u001b[0m\u001b[0m\n\u001b[0;32m     56\u001b[0m         \u001b[0mc_ME_USER_URLnotextern\u001b[0m \u001b[1;33m+=\u001b[0m \u001b[1;36m1\u001b[0m\u001b[1;33m\u001b[0m\u001b[0m\n\u001b[1;32m---> 57\u001b[1;33m     \u001b[1;32melif\u001b[0m \u001b[0mtweet\u001b[0m\u001b[1;33m[\u001b[0m\u001b[1;34m\"entities\"\u001b[0m\u001b[1;33m]\u001b[0m\u001b[1;33m[\u001b[0m\u001b[1;34m\"urls\"\u001b[0m\u001b[1;33m]\u001b[0m\u001b[1;33m[\u001b[0m\u001b[1;33m-\u001b[0m\u001b[1;36m1\u001b[0m\u001b[1;33m]\u001b[0m\u001b[1;33m[\u001b[0m\u001b[1;34m\"expanded_url\"\u001b[0m\u001b[1;33m]\u001b[0m\u001b[1;33m.\u001b[0m\u001b[0mstartswith\u001b[0m\u001b[1;33m(\u001b[0m\u001b[1;34m\"https://twitter.com\"\u001b[0m\u001b[1;33m)\u001b[0m\u001b[1;33m:\u001b[0m\u001b[1;33m\u001b[0m\u001b[0m\n\u001b[0m\u001b[0;32m     58\u001b[0m         \u001b[0mc_ME_USER_URLnotextern\u001b[0m \u001b[1;33m+=\u001b[0m \u001b[1;36m1\u001b[0m\u001b[1;33m\u001b[0m\u001b[0m\n\u001b[0;32m     59\u001b[0m \u001b[1;33m\u001b[0m\u001b[0m\n",
      "\u001b[1;31mTypeError\u001b[0m: list indices must be integers or slices, not str"
     ]
    }
   ],
   "source": [
    "import ast\n",
    "x = ast.literal_eval(tweets_institut[\"tweet_proc\"][0])\n",
    "[n.strip() for n in x]\n",
    "\n",
    "personal = [\"me\", \"I\", \"i\", \"I'm\", \"i'm\", \"Im\", \"im \", \"my\", \"My\", \"I've\", \"i've\", \"I'd\", \"i'd\"] \n",
    "\n",
    "def check_personal_in_tweet(tweet):\n",
    "    #print(tweet)\n",
    "    for p in personal:\n",
    "    #    print(\"p:\", p)\n",
    "        if p in tweet:\n",
    "    #        print(\"yeah\")\n",
    "            return True\n",
    "    #print(\"no\")\n",
    "    return False \n",
    "        \n",
    "c_USER = 0\n",
    "c_USER_START = 0\n",
    "c_URL = 0\n",
    "c_URL_END = 0\n",
    "c_ME = 0\n",
    "c_USER_ME = 0\n",
    "c_ME_USER_URLnotextern = 0\n",
    "c_URLextern = 0 \n",
    "\n",
    "for tweet in tweets_personal[\"tweet_proc\"]:\n",
    "    #print(tweet)\n",
    "    \n",
    "    # string-tweet to list\n",
    "    tweet = ast.literal_eval(tweet)\n",
    "    tweet = [n.strip() for n in tweet]\n",
    "    \n",
    "    \n",
    "    if \"USER\" in tweet:\n",
    "        c_USER += 1\n",
    "        \n",
    "    if \"USER\" == tweet[0]:\n",
    "        c_USER_START += 1\n",
    "        \n",
    "    if \"URL\" in tweet:\n",
    "        c_URL += 1\n",
    "        \n",
    "    if \"URL\" in tweet[-1]:\n",
    "        c_URL_END += 1\n",
    "    \n",
    "    if check_personal_in_tweet(tweet):\n",
    "        c_ME += 1\n",
    "        \n",
    "    if check_personal_in_tweet(tweet):\n",
    "        c_USER_ME += 1\n",
    "    elif \"USER\" in tweet[0]:\n",
    "        c_USER_ME +=1\n",
    "        \n",
    "    if check_personal_in_tweet(tweet):\n",
    "        c_ME_USER_URLnotextern += 1\n",
    "    elif \"USER\" in tweet[0]:\n",
    "        c_ME_USER_URLnotextern += 1\n",
    "    elif tweet[\"entities\"][\"urls\"][-1][\"expanded_url\"].startswith(\"https://twitter.com\"):\n",
    "        c_ME_USER_URLnotextern += 1 \n",
    "        \n",
    "    if not tweet[\"entities\"][\"urls\"][-1][\"expanded_url\"].startswith(\"https://twitter.com\"):\n",
    "        c_URLextern += 1\n",
    "\n",
    "print(\"count USER:\", c_USER)\n",
    "print(\"USER at start:\", c_USER_START)\n",
    "print(\"count URL:\", c_URL)\n",
    "print(\"URL at end:\", c_URL_END)\n",
    "print(\"count ME:\", c_ME)\n",
    "print(\"cout USER or ME\", c_USER_ME)\n",
    "print(\"URL extern:\", c_URLextern)\n",
    "print(\"ME USER URLnotExtern:\", c_ME_USER_URLnotextern)\n",
    "print(\"personal tweets total:\", len(tweets_personal))"
   ]
  },
  {
   "cell_type": "code",
   "execution_count": 170,
   "metadata": {},
   "outputs": [
    {
     "name": "stdout",
     "output_type": "stream",
     "text": [
      "USER start: 241  total: 269\n",
      "URL end: 229  total: 245\n",
      "personal words: 368\n",
      "personal words or USER at start 499\n",
      "URL to external source: 69\n",
      "URL to not external source: 151\n",
      "personal words or USER or Not external source: 531\n",
      "personal tweets total: 645\n"
     ]
    }
   ],
   "source": [
    "c_USER = 0\n",
    "c_USER_START = 0\n",
    "c_URL = 0\n",
    "c_URL_END = 0\n",
    "c_ME = 0\n",
    "c_USER_ME = 0\n",
    "c_ME_USER_URLnotextern = 0\n",
    "c_URLextern = 0 \n",
    "c_URLnotextern = 0 \n",
    "\n",
    "for i,user in enumerate(tweets_personal[\"user_name\"]):\n",
    "    tweet_info = manually_labelled_tweets.find({'user.screen_name' : user})[0]\n",
    "\n",
    "    tweet = tweets_personal[\"tweet_proc\"].iloc[i]\n",
    "    #print(tweet)    \n",
    "    #print(type(tweet))\n",
    "\n",
    "    # string-tweet to list\n",
    "    tweet = ast.literal_eval(tweet)\n",
    "    tweet = [n.strip() for n in tweet]\n",
    "    #print(type(tweet))\n",
    "\n",
    "    if \"USER\" in tweet:\n",
    "        c_USER += 1\n",
    "\n",
    "    if \"USER\" == tweet[0]:\n",
    "        c_USER_START += 1\n",
    "        \n",
    "    if \"URL\" in tweet:\n",
    "        c_URL += 1\n",
    "        \n",
    "    if \"URL\" in tweet[-1]:\n",
    "        c_URL_END += 1\n",
    "    \n",
    "    if check_personal_in_tweet(tweet):\n",
    "        c_ME += 1\n",
    "        \n",
    "    if check_personal_in_tweet(tweet):\n",
    "        c_USER_ME += 1\n",
    "        c_ME_USER_URLnotextern += 1\n",
    "            \n",
    "    elif \"USER\" in tweet[0]:\n",
    "        c_USER_ME +=1\n",
    "        c_ME_USER_URLnotextern += 1\n",
    "\n",
    "    else:\n",
    "\n",
    "        try:\n",
    "\n",
    "            if tweet_info[\"entities\"][\"urls\"][-1][\"expanded_url\"].startswith(\"https://twitter.com\"):\n",
    "                c_ME_USER_URLnotextern += 1 \n",
    "\n",
    "        except:\n",
    "            pass\n",
    "\n",
    "    try:     \n",
    "        if not tweet_info[\"entities\"][\"urls\"][-1][\"expanded_url\"].startswith(\"https://twitter.com\"):\n",
    "            c_URLextern += 1\n",
    "            \n",
    "        if tweet_info[\"entities\"][\"urls\"][-1][\"expanded_url\"].startswith(\"https://twitter.com\"):\n",
    "            c_URLnotextern += 1\n",
    "    except:\n",
    "        pass\n",
    "    \n",
    "print(\"USER start:\", c_USER_START, \" total:\", c_USER)\n",
    "print(\"URL end:\", c_URL_END, \" total:\", c_URL)\n",
    "print(\"personal words:\", c_ME)\n",
    "print(\"personal words or USER at start\", c_USER_ME)\n",
    "print(\"URL to external source:\", c_URLextern)\n",
    "print(\"URL to not external source:\", c_URLnotextern)\n",
    "print(\"personal words or USER or Not external source:\", c_ME_USER_URLnotextern)\n",
    "print(\"personal tweets total:\", len(tweets_personal))"
   ]
  },
  {
   "cell_type": "code",
   "execution_count": 171,
   "metadata": {},
   "outputs": [
    {
     "name": "stdout",
     "output_type": "stream",
     "text": [
      "USER start: 42  total: 121\n",
      "URL end: 483  total: 578\n",
      "personal words: 14\n",
      "personal words or USER at start 53\n",
      "URL to external source: 434\n",
      "URL to not external source: 127\n",
      "personal words or USER or Not external source: 169\n",
      "institut tweets total: 669\n"
     ]
    }
   ],
   "source": [
    "c_USER = 0\n",
    "c_USER_START = 0\n",
    "c_URL = 0\n",
    "c_URL_END = 0\n",
    "c_ME = 0\n",
    "c_USER_ME = 0\n",
    "c_ME_USER_URLnotextern = 0\n",
    "c_URLextern = 0 \n",
    "c_URLnotextern = 0 \n",
    "\n",
    "for i,user in enumerate(tweets_institut[\"user_name\"]):\n",
    "    tweet_info = manually_labelled_tweets.find({'user.screen_name' : user})[0]\n",
    "\n",
    "    tweet = tweets_institut[\"tweet_proc\"].iloc[i]\n",
    "    #print(tweet)    \n",
    "    #print(type(tweet))\n",
    "\n",
    "    # string-tweet to list\n",
    "    tweet = ast.literal_eval(tweet)\n",
    "    tweet = [n.strip() for n in tweet]\n",
    "    #print(type(tweet))\n",
    "\n",
    "    if \"USER\" in tweet:\n",
    "        c_USER += 1\n",
    "\n",
    "    if \"USER\" == tweet[0]:\n",
    "        c_USER_START += 1\n",
    "        \n",
    "    if \"URL\" in tweet:\n",
    "        c_URL += 1\n",
    "        \n",
    "    if \"URL\" in tweet[-1]:\n",
    "        c_URL_END += 1\n",
    "    \n",
    "    if check_personal_in_tweet(tweet):\n",
    "        c_ME += 1\n",
    "        \n",
    "    if check_personal_in_tweet(tweet):\n",
    "        c_USER_ME += 1\n",
    "        c_ME_USER_URLnotextern += 1\n",
    "            \n",
    "    elif \"USER\" in tweet[0]:\n",
    "        c_USER_ME +=1\n",
    "        c_ME_USER_URLnotextern += 1\n",
    "\n",
    "    else:\n",
    "\n",
    "        try:\n",
    "\n",
    "            if tweet_info[\"entities\"][\"urls\"][-1][\"expanded_url\"].startswith(\"https://twitter.com\"):\n",
    "                c_ME_USER_URLnotextern += 1 \n",
    "\n",
    "        except:\n",
    "            pass\n",
    "\n",
    "    try:     \n",
    "        if not tweet_info[\"entities\"][\"urls\"][-1][\"expanded_url\"].startswith(\"https://twitter.com\"):\n",
    "            c_URLextern += 1\n",
    "            \n",
    "        if tweet_info[\"entities\"][\"urls\"][-1][\"expanded_url\"].startswith(\"https://twitter.com\"):\n",
    "            c_URLnotextern += 1\n",
    "    except:\n",
    "        pass\n",
    "    \n",
    "print(\"USER start:\", c_USER_START, \" total:\", c_USER)\n",
    "print(\"URL end:\", c_URL_END, \" total:\", c_URL)\n",
    "print(\"personal words:\", c_ME)\n",
    "print(\"personal words or USER at start\", c_USER_ME)\n",
    "print(\"URL to external source:\", c_URLextern)\n",
    "print(\"URL to not external source:\", c_URLnotextern)\n",
    "print(\"personal words or USER or Not external source:\", c_ME_USER_URLnotextern)\n",
    "print(\"institut tweets total:\", len(tweets_institut))"
   ]
  },
  {
   "cell_type": "code",
   "execution_count": 176,
   "metadata": {},
   "outputs": [],
   "source": [
    "def calc_y_pred_pers(tweet_pd):\n",
    "\n",
    "    y_pred = np.zeros(len(tweets_csv.index))\n",
    "    \n",
    "    for i,user in enumerate(tweet_pd[\"user_name\"]):\n",
    "        tweet_info = manually_labelled_tweets.find({'user.screen_name' : user})[0]\n",
    "\n",
    "        tweet = tweet_pd[\"tweet_proc\"].iloc[i]\n",
    "\n",
    "        # string-tweet to list\n",
    "        tweet = ast.literal_eval(tweet)\n",
    "        tweet = [n.strip() for n in tweet]\n",
    "        \n",
    "        if check_personal_in_tweet(tweet) or \"USER\" in tweet[0]:\n",
    "            y_pred[i] = 1\n",
    "        else:\n",
    "            try:\n",
    "\n",
    "                if tweet_info[\"entities\"][\"urls\"][-1][\"expanded_url\"].startswith(\"https://twitter.com\"):\n",
    "                    y_pred[i] = 1\n",
    "\n",
    "            except:\n",
    "                pass\n",
    "\n",
    "    return y_pred\n",
    "\n",
    "        \n",
    "\n",
    "y_pred = calc_y_pred_pers(tweets_csv)   "
   ]
  },
  {
   "cell_type": "code",
   "execution_count": 177,
   "metadata": {},
   "outputs": [
    {
     "data": {
      "text/plain": [
       "Counter({0.0: 614, 1.0: 700})"
      ]
     },
     "execution_count": 177,
     "metadata": {},
     "output_type": "execute_result"
    }
   ],
   "source": [
    "import collections\n",
    "collections.Counter(y_pred)"
   ]
  },
  {
   "cell_type": "code",
   "execution_count": 180,
   "metadata": {},
   "outputs": [
    {
     "name": "stdout",
     "output_type": "stream",
     "text": [
      "accuracy: 0.784627092846271\n"
     ]
    }
   ],
   "source": [
    "def calc_confusion_matrix(y_true, y_pred):\n",
    "    \n",
    "    # counters for the 4 types of classification\n",
    "    tp = 0  # True Positives (predicted in class and are actually in class)\n",
    "    tn = 0  # True Negatives (predicted out of class and are actually out of class)\n",
    "    fp = 0  # False Positives (predicted in class but are actually out of class)\n",
    "    fn = 0  # False Negatives (predicted out of class but are actually in class)\n",
    "    \n",
    "    for i in range(len(y_true)):\n",
    "        \n",
    "        if y_true[i] == 0:\n",
    "            if y_pred[i] == 0:\n",
    "                tp += 1\n",
    "            else:\n",
    "                fn += 1\n",
    "        else:\n",
    "            if y_pred[i] == 0:\n",
    "                fp += 1\n",
    "            else:\n",
    "                tn += 1\n",
    "                \n",
    "    confusion_matrix = np.array([[tp, fn], [fp, tn]])\n",
    "    accuracy = (tp + tn) / (tp+fn+fp+tn)\n",
    "    \n",
    "    return confusion_matrix, accuracy\n",
    "\n",
    "confusion_matrix, accuracy = calc_confusion_matrix(tweets_csv[\"personal (0=no, 1=yes)\"], y_pred)\n",
    "print(\"accuracy:\", accuracy)"
   ]
  },
  {
   "cell_type": "code",
   "execution_count": null,
   "metadata": {},
   "outputs": [],
   "source": []
  },
  {
   "cell_type": "code",
   "execution_count": 138,
   "metadata": {},
   "outputs": [
    {
     "name": "stdout",
     "output_type": "stream",
     "text": [
      "{'_id': ObjectId('5ad7630be33c491a4ce70ce4'),\n",
      " 'entities': {'hashtags': [],\n",
      "              'symbols': [],\n",
      "              'urls': [{'display_url': 'dlvr.it/P6lNnW',\n",
      "                        'expanded_url': 'http://dlvr.it/P6lNnW',\n",
      "                        'indices': [30, 53],\n",
      "                        'url': 'https://t.co/B68SbSYavh'}],\n",
      "              'user_mentions': []},\n",
      " 'id': 862645858843508737,\n",
      " 'text': 'Seven yoga poses for diabetes https://t.co/B68SbSYavh',\n",
      " 'user': {'id': 724244334615236608,\n",
      "          'name': 'Jennifer Lyne',\n",
      "          'screen_name': '_JenniferLyne'}}\n"
     ]
    }
   ],
   "source": []
  },
  {
   "cell_type": "code",
   "execution_count": null,
   "metadata": {},
   "outputs": [],
   "source": []
  }
 ],
 "metadata": {
  "kernelspec": {
   "display_name": "Python 3",
   "language": "python",
   "name": "python3"
  },
  "language_info": {
   "codemirror_mode": {
    "name": "ipython",
    "version": 3
   },
   "file_extension": ".py",
   "mimetype": "text/x-python",
   "name": "python",
   "nbconvert_exporter": "python",
   "pygments_lexer": "ipython3",
   "version": "3.5.5"
  }
 },
 "nbformat": 4,
 "nbformat_minor": 2
}
