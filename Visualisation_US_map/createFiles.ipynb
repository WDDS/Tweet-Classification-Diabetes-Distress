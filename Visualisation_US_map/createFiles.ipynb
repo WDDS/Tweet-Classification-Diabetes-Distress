{
 "cells": [
  {
   "cell_type": "code",
   "execution_count": 3,
   "metadata": {},
   "outputs": [
    {
     "name": "stdout",
     "output_type": "stream",
     "text": [
      "dict_keys(['SCALERANK', 'NATSCALE', 'LABELRANK', 'FEATURECLA', 'NAME', 'NAMEPAR', 'NAMEALT', 'DIFFASCII', 'NAMEASCII', 'ADM0CAP', 'CAPIN', 'WORLDCITY', 'MEGACITY', 'SOV0NAME', 'SOV_A3', 'ADM0NAME', 'ADM0_A3', 'ADM1NAME', 'ISO_A2', 'NOTE', 'LATITUDE', 'LONGITUDE', 'CHANGED', 'NAMEDIFF', 'DIFFNOTE', 'POP_MAX', 'POP_MIN', 'POP_OTHER', 'RANK_MAX', 'RANK_MIN', 'GEONAMEID', 'MEGANAME', 'LS_NAME', 'LS_MATCH', 'CHECKME', 'MAX_POP10', 'MAX_POP20', 'MAX_POP50', 'MAX_POP300', 'MAX_POP310', 'MAX_NATSCA', 'MIN_AREAKM', 'MAX_AREAKM', 'MIN_AREAMI', 'MAX_AREAMI', 'MIN_PERKM', 'MAX_PERKM', 'MIN_PERMI', 'MAX_PERMI', 'MIN_BBXMIN', 'MAX_BBXMIN', 'MIN_BBXMAX', 'MAX_BBXMAX', 'MIN_BBYMIN', 'MAX_BBYMIN', 'MIN_BBYMAX', 'MAX_BBYMAX', 'MEAN_BBXC', 'MEAN_BBYC', 'COMPARE', 'GN_ASCII', 'FEATURE_CL', 'FEATURE_CO', 'ADMIN1_COD', 'GN_POP', 'ELEVATION', 'GTOPO30', 'TIMEZONE', 'GEONAMESNO', 'UN_FID', 'UN_ADM0', 'UN_LAT', 'UN_LONG', 'POP1950', 'POP1955', 'POP1960', 'POP1965', 'POP1970', 'POP1975', 'POP1980', 'POP1985', 'POP1990', 'POP1995', 'POP2000', 'POP2005', 'POP2010', 'POP2015', 'POP2020', 'POP2025', 'POP2050', 'CITYALT', 'min_zoom', 'wikidataid', 'wof_id', 'CAPALT', 'name_en', 'name_de', 'name_es', 'name_fr', 'name_pt', 'name_ru', 'name_zh', 'label', 'name_ar', 'name_bn', 'name_el', 'name_hi', 'name_hu', 'name_id', 'name_it', 'name_ja', 'name_ko', 'name_nl', 'name_pl', 'name_sv', 'name_tr', 'name_vi', 'wdid_score', 'ne_id'])\n"
     ]
    }
   ],
   "source": [
    "import json\n",
    "import pprint\n",
    "\n",
    "with open('cities_usa_Scale8.topo.json') as f:\n",
    "    d = json.load(f)\n",
    "    print(d['objects']['citiesScale8']['geometries'][0][\"properties\"].keys())\n",
    "#    pprint.pprint(d)"
   ]
  },
  {
   "cell_type": "code",
   "execution_count": 12,
   "metadata": {},
   "outputs": [
    {
     "name": "stdout",
     "output_type": "stream",
     "text": [
      "MS 0.0001878422304489843\n",
      "NE 0.0007095713608577222\n",
      "IA 0.0006074429528157265\n",
      "MT 0.0005329333467999287\n",
      "CO 0.0008066463900757273\n",
      "ND 0.0005328858783656263\n",
      "WI 0.0005073016753963023\n",
      "FL 0.00042062191607118645\n",
      "NH 0.00029326493523859306\n",
      "MN 0.0007423249492945579\n",
      "WY 0.00025894087253190804\n",
      "HI 0.0006688885081995296\n",
      "CA 0.0004921745545834873\n",
      "VA 0.000514858003863463\n",
      "ID 0.0004969771927000828\n",
      "UT 0.0006183723746982293\n",
      "CT 0.0004088171830228033\n",
      "AR 0.00025782999973528\n",
      "WV 0.0003438087741099341\n",
      "NY 0.0008121719326579035\n",
      "ME 0.0004632151355168319\n",
      "LA 0.00040545277515927476\n",
      "TN 0.0005349531659033826\n",
      "KY 0.0004992779489852056\n",
      "AL 0.00023199269807949336\n",
      "AK 0.0008052882614098902\n",
      "TX 0.0006223637679284764\n",
      "OK 0.0008175810370818108\n",
      "NC 0.000515945958405907\n",
      "AZ 0.0006071139083827594\n",
      "NM 0.0003926419628124667\n",
      "VT 0.0003154518567624391\n",
      "DC 0.007848915615106266\n",
      "SC 0.00022317618483149015\n",
      "IN 0.0008490355706005793\n",
      "GA 0.0005545997801654709\n",
      "RI 0.0003237194989583849\n",
      "PA 0.0003506255837228704\n",
      "NJ 0.0003576555893227123\n",
      "KS 0.000502050709310815\n",
      "NV 0.0010768766576149016\n",
      "SD 0.00032719454052538096\n",
      "WA 0.0008775825025610772\n",
      "MO 0.00040671612098920433\n",
      "MD 0.0007023163638290359\n",
      "MI 0.0003227647277848829\n",
      "OR 0.0006464596110975842\n",
      "OH 0.0005362286599698983\n",
      "DE 0.0005151756188368241\n",
      "MA 0.0008123204105062594\n",
      "IL 0.0005961063778215232\n"
     ]
    }
   ],
   "source": [
    "# Manually change some states when misclassified\n",
    "with open('US_States20190708.json') as f:\n",
    "    d = json.load(f)\n",
    "    #print(d)\n",
    "    for dic in d:\n",
    "        # substract 252 misclassifications for the city Norman, OK\n",
    "        if dic[\"geo_adm1_code\"] == \"OK\": dic[\"count\"] -= 252\n",
    "        # substract 76 misclassifications for the city Lincoln, NE\n",
    "        if dic[\"geo_adm1_code\"] == \"NE\": dic[\"count\"] -= 76\n",
    "        # substract 540 misclassifications for the city Provo, UT\n",
    "        if dic[\"geo_adm1_code\"] == \"UT\": dic[\"count\"] -= 540\n",
    "        # substract 186 misclassifications for the city Idaho, ID\n",
    "        if dic[\"geo_adm1_code\"] == \"ID\": dic[\"count\"] -= 183\n",
    "        # substract 163 misclassifications for the city Big Spring, TX\n",
    "        if dic[\"geo_adm1_code\"] == \"OK\": dic[\"count\"] -= 163         \n",
    "            \n",
    "        print(dic[\"geo_adm1_code\"], dic[\"count\"]/dic[\"population\"])\n",
    "    #print(d)\n",
    "    \n",
    "    with open('US_States20190708_manuallyCorrectedSomeMisclassifications.json', 'w') as fi:\n",
    "        json.dump(d, fi)"
   ]
  },
  {
   "cell_type": "code",
   "execution_count": 6,
   "metadata": {},
   "outputs": [
    {
     "name": "stdout",
     "output_type": "stream",
     "text": [
      "Number cities: 5805\n",
      "North Platte\n",
      "193 24194\n",
      "Write ..\n"
     ]
    }
   ],
   "source": [
    "with open('US_cities_States20190708.json', \"r\") as f:\n",
    "    cities = json.load(f)\n",
    "    \n",
    "    with open('cities_usa_Scale8.topo.json') as g:\n",
    "        topo = json.load(g)\n",
    "        print(\"Number cities:\", len(cities))\n",
    "           \n",
    "        for i in range(len(topo['objects']['citiesScale8']['geometries'])):\n",
    "            if \"North\" in topo['objects']['citiesScale8']['geometries'][i][\"properties\"][\"NAME\"]:\n",
    "                print(topo['objects']['citiesScale8']['geometries'][i][\"properties\"][\"NAME\"])\n",
    "            # correct wrong geolocalised North Platte to Lincoln in Nebraska\n",
    "            # And dont consider tweets of Lincoln because most misclassified\n",
    "            if topo['objects']['citiesScale8']['geometries'][i][\"properties\"][\"NAME\"] == \"Lincoln\" and topo['objects']['citiesScale8']['geometries'][i][\"properties\"][\"ADM1NAME\"] == \"Nebraska\":\n",
    "                #print(topo['objects']['citiesScale8']['geometries'][i][\"properties\"])\n",
    "                    \n",
    "                for city in cities:\n",
    "                    if city[\"city_name\"] == \"North Platte\": \n",
    "                        print( city[\"count\"],  city[\"population\"])\n",
    "                        topo['objects']['citiesScale8']['geometries'][i][\"properties\"][\"count\"] = city[\"count\"]\n",
    "                    if city[\"city_name\"] == \"Lincoln\":\n",
    "                        topo['objects']['citiesScale8']['geometries'][i][\"properties\"][\"population\"] = city[\"population\"]\n",
    "    \n",
    "            \n",
    "            elif topo['objects']['citiesScale8']['geometries'][i][\"properties\"][\"NAME\"] == \"Big Spring\": pass # partially wrong\n",
    "            elif topo['objects']['citiesScale8']['geometries'][i][\"properties\"][\"NAME\"] == \"Twin Falls\": pass # partially wrong\n",
    "            elif topo['objects']['citiesScale8']['geometries'][i][\"properties\"][\"NAME\"] == \"North Platte\": pass # partially wrong\n",
    "            elif topo['objects']['citiesScale8']['geometries'][i][\"properties\"][\"NAME\"] == \"Norman\": pass # partially wrong; Oklahoma\n",
    "            elif topo['objects']['citiesScale8']['geometries'][i][\"properties\"][\"NAME\"] == \"Provo\": pass # partially wrong\n",
    "       \n",
    "            \n",
    "            else:\n",
    "                for city in cities:    \n",
    "                \n",
    "                    # Check that New York is considered. Might be written: New York City\n",
    "                    if city[\"city_name\"] == topo['objects']['citiesScale8']['geometries'][i][\"properties\"][\"NAME\"]:\n",
    "\n",
    "                        topo['objects']['citiesScale8']['geometries'][i][\"properties\"][\"count\"] = city[\"count\"]\n",
    "                        topo['objects']['citiesScale8']['geometries'][i][\"properties\"][\"population\"] = city[\"population\"]\n",
    "            \n",
    "        print(\"Write ..\")    \n",
    "        with open('cities_usa_Scale8_CountPopul_20190708.topo.json', 'w', encoding='utf-8') as wr:\n",
    "            json.dump(topo, wr, ensure_ascii=False, indent=4)"
   ]
  },
  {
   "cell_type": "code",
   "execution_count": null,
   "metadata": {},
   "outputs": [],
   "source": [
    "                      "
   ]
  }
 ],
 "metadata": {
  "kernelspec": {
   "display_name": "Python 3",
   "language": "python",
   "name": "python3"
  },
  "language_info": {
   "codemirror_mode": {
    "name": "ipython",
    "version": 3
   },
   "file_extension": ".py",
   "mimetype": "text/x-python",
   "name": "python",
   "nbconvert_exporter": "python",
   "pygments_lexer": "ipython3",
   "version": "3.7.3"
  }
 },
 "nbformat": 4,
 "nbformat_minor": 2
}
