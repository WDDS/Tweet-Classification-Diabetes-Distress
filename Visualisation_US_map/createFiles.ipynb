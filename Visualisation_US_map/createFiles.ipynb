{
 "cells": [
  {
   "cell_type": "code",
   "execution_count": 2,
   "metadata": {},
   "outputs": [
    {
     "name": "stdout",
     "output_type": "stream",
     "text": [
      "dict_keys(['SCALERANK', 'NATSCALE', 'LABELRANK', 'FEATURECLA', 'NAME', 'NAMEPAR', 'NAMEALT', 'DIFFASCII', 'NAMEASCII', 'ADM0CAP', 'CAPIN', 'WORLDCITY', 'MEGACITY', 'SOV0NAME', 'SOV_A3', 'ADM0NAME', 'ADM0_A3', 'ADM1NAME', 'ISO_A2', 'NOTE', 'LATITUDE', 'LONGITUDE', 'CHANGED', 'NAMEDIFF', 'DIFFNOTE', 'POP_MAX', 'POP_MIN', 'POP_OTHER', 'RANK_MAX', 'RANK_MIN', 'GEONAMEID', 'MEGANAME', 'LS_NAME', 'LS_MATCH', 'CHECKME', 'MAX_POP10', 'MAX_POP20', 'MAX_POP50', 'MAX_POP300', 'MAX_POP310', 'MAX_NATSCA', 'MIN_AREAKM', 'MAX_AREAKM', 'MIN_AREAMI', 'MAX_AREAMI', 'MIN_PERKM', 'MAX_PERKM', 'MIN_PERMI', 'MAX_PERMI', 'MIN_BBXMIN', 'MAX_BBXMIN', 'MIN_BBXMAX', 'MAX_BBXMAX', 'MIN_BBYMIN', 'MAX_BBYMIN', 'MIN_BBYMAX', 'MAX_BBYMAX', 'MEAN_BBXC', 'MEAN_BBYC', 'COMPARE', 'GN_ASCII', 'FEATURE_CL', 'FEATURE_CO', 'ADMIN1_COD', 'GN_POP', 'ELEVATION', 'GTOPO30', 'TIMEZONE', 'GEONAMESNO', 'UN_FID', 'UN_ADM0', 'UN_LAT', 'UN_LONG', 'POP1950', 'POP1955', 'POP1960', 'POP1965', 'POP1970', 'POP1975', 'POP1980', 'POP1985', 'POP1990', 'POP1995', 'POP2000', 'POP2005', 'POP2010', 'POP2015', 'POP2020', 'POP2025', 'POP2050', 'CITYALT', 'min_zoom', 'wikidataid', 'wof_id', 'CAPALT', 'name_en', 'name_de', 'name_es', 'name_fr', 'name_pt', 'name_ru', 'name_zh', 'label', 'name_ar', 'name_bn', 'name_el', 'name_hi', 'name_hu', 'name_id', 'name_it', 'name_ja', 'name_ko', 'name_nl', 'name_pl', 'name_sv', 'name_tr', 'name_vi', 'wdid_score', 'ne_id'])\n"
     ]
    }
   ],
   "source": [
    "import json\n",
    "import pprint\n",
    "\n",
    "with open('cities_usa_Scale8.topo.json') as f:\n",
    "    d = json.load(f)\n",
    "    print(d['objects']['citiesScale8']['geometries'][0][\"properties\"].keys())\n",
    "#    pprint.pprint(d)"
   ]
  },
  {
   "cell_type": "code",
   "execution_count": 4,
   "metadata": {},
   "outputs": [
    {
     "name": "stdout",
     "output_type": "stream",
     "text": [
      "MS 545\n",
      "NE 1247\n",
      "IA 1795\n",
      "MT 496\n",
      "CO 3774\n",
      "ND 336\n",
      "WI 2808\n",
      "FL 7433\n",
      "NH 386\n",
      "MN 3817\n",
      "WY 131\n",
      "HI 859\n",
      "CA 18551\n",
      "VA 3935\n",
      "ID 704\n",
      "UT 1501\n",
      "CT 1442\n",
      "AR 711\n",
      "WV 625\n",
      "NY 15654\n",
      "ME 614\n",
      "LA 1831\n",
      "TN 3175\n",
      "KY 2100\n",
      "AL 1051\n",
      "AK 532\n",
      "TX 14237\n",
      "OK 2900\n",
      "NC 4443\n",
      "AZ 3560\n",
      "NM 751\n",
      "VT 197\n",
      "DC 4336\n",
      "SC 944\n",
      "IN 5320\n",
      "GA 4978\n",
      "RI 340\n",
      "PA 4362\n",
      "NJ 3130\n",
      "KS 1376\n",
      "NV 2584\n",
      "SD 252\n",
      "WA 5504\n",
      "MO 2346\n",
      "MD 3950\n",
      "MI 3190\n",
      "OR 2355\n",
      "OH 6149\n",
      "DE 432\n",
      "MA 5226\n",
      "IL 7614\n"
     ]
    }
   ],
   "source": [
    "# Manually change some states when misclassified\n",
    "with open('US_States20190708.json') as f:\n",
    "    d = json.load(f)\n",
    "    #print(d)\n",
    "    for dic in d:\n",
    "        # substract 252 misclassifications for the city Norman, OK\n",
    "        if dic[\"geo_adm1_code\"] == \"OK\": dic[\"count\"] -= 252\n",
    "        # substract 76 misclassifications for the city Lincoln, NE\n",
    "        if dic[\"geo_adm1_code\"] == \"NE\": dic[\"count\"] -= 76\n",
    "        # substract 540 misclassifications for the city Provo, UT\n",
    "        if dic[\"geo_adm1_code\"] == \"UT\": dic[\"count\"] -= 540\n",
    "        # substract 186 misclassifications for the city Idaho, ID\n",
    "        if dic[\"geo_adm1_code\"] == \"ID\": dic[\"count\"] -= 183\n",
    "        # substract 163 misclassifications for the city Big Spring, TX\n",
    "        if dic[\"geo_adm1_code\"] == \"OK\": dic[\"count\"] -= 163         \n",
    "            \n",
    "        #print(dic[\"geo_adm1_code\"], dic[\"count\"]/dic[\"population\"])\n",
    "        print(dic[\"geo_adm1_code\"], dic[\"count\"])\n",
    "    #print(d)\n",
    "    \n",
    "    with open('US_States20190708_manuallyCorrectedSomeMisclassifications.json', 'w') as fi:\n",
    "        json.dump(d, fi)"
   ]
  },
  {
   "cell_type": "code",
   "execution_count": 6,
   "metadata": {},
   "outputs": [
    {
     "name": "stdout",
     "output_type": "stream",
     "text": [
      "Number cities: 5805\n",
      "North Platte\n",
      "193 24194\n",
      "Write ..\n"
     ]
    }
   ],
   "source": [
    "with open('US_cities_States20190708.json', \"r\") as f:\n",
    "    cities = json.load(f)\n",
    "    \n",
    "    with open('cities_usa_Scale8.topo.json') as g:\n",
    "        topo = json.load(g)\n",
    "        print(\"Number cities:\", len(cities))\n",
    "           \n",
    "        for i in range(len(topo['objects']['citiesScale8']['geometries'])):\n",
    "            if \"North\" in topo['objects']['citiesScale8']['geometries'][i][\"properties\"][\"NAME\"]:\n",
    "                print(topo['objects']['citiesScale8']['geometries'][i][\"properties\"][\"NAME\"])\n",
    "            # correct wrong geolocalised North Platte to Lincoln in Nebraska\n",
    "            # And dont consider tweets of Lincoln because most misclassified\n",
    "            if topo['objects']['citiesScale8']['geometries'][i][\"properties\"][\"NAME\"] == \"Lincoln\" and topo['objects']['citiesScale8']['geometries'][i][\"properties\"][\"ADM1NAME\"] == \"Nebraska\":\n",
    "                #print(topo['objects']['citiesScale8']['geometries'][i][\"properties\"])\n",
    "                    \n",
    "                for city in cities:\n",
    "                    if city[\"city_name\"] == \"North Platte\": \n",
    "                        print( city[\"count\"],  city[\"population\"])\n",
    "                        topo['objects']['citiesScale8']['geometries'][i][\"properties\"][\"count\"] = city[\"count\"]\n",
    "                    if city[\"city_name\"] == \"Lincoln\":\n",
    "                        topo['objects']['citiesScale8']['geometries'][i][\"properties\"][\"population\"] = city[\"population\"]\n",
    "    \n",
    "            \n",
    "            elif topo['objects']['citiesScale8']['geometries'][i][\"properties\"][\"NAME\"] == \"Big Spring\": pass # partially wrong\n",
    "            elif topo['objects']['citiesScale8']['geometries'][i][\"properties\"][\"NAME\"] == \"Twin Falls\": pass # partially wrong\n",
    "            elif topo['objects']['citiesScale8']['geometries'][i][\"properties\"][\"NAME\"] == \"North Platte\": pass # partially wrong\n",
    "            elif topo['objects']['citiesScale8']['geometries'][i][\"properties\"][\"NAME\"] == \"Norman\": pass # partially wrong; Oklahoma\n",
    "            elif topo['objects']['citiesScale8']['geometries'][i][\"properties\"][\"NAME\"] == \"Provo\": pass # partially wrong\n",
    "       \n",
    "            \n",
    "            else:\n",
    "                for city in cities:    \n",
    "                \n",
    "                    # Check that New York is considered. Might be written: New York City\n",
    "                    if city[\"city_name\"] == topo['objects']['citiesScale8']['geometries'][i][\"properties\"][\"NAME\"]:\n",
    "\n",
    "                        topo['objects']['citiesScale8']['geometries'][i][\"properties\"][\"count\"] = city[\"count\"]\n",
    "                        topo['objects']['citiesScale8']['geometries'][i][\"properties\"][\"population\"] = city[\"population\"]\n",
    "            \n",
    "        print(\"Write ..\")    \n",
    "        with open('cities_usa_Scale8_CountPopul_20190708.topo.json', 'w', encoding='utf-8') as wr:\n",
    "            json.dump(topo, wr, ensure_ascii=False, indent=4)"
   ]
  },
  {
   "cell_type": "code",
   "execution_count": null,
   "metadata": {},
   "outputs": [],
   "source": [
    "                      "
   ]
  }
 ],
 "metadata": {
  "kernelspec": {
   "display_name": "Python 3",
   "language": "python",
   "name": "python3"
  },
  "language_info": {
   "codemirror_mode": {
    "name": "ipython",
    "version": 3
   },
   "file_extension": ".py",
   "mimetype": "text/x-python",
   "name": "python",
   "nbconvert_exporter": "python",
   "pygments_lexer": "ipython3",
   "version": "3.7.3"
  }
 },
 "nbformat": 4,
 "nbformat_minor": 2
}
