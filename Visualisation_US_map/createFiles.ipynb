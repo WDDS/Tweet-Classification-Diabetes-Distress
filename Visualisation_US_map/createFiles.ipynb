{
 "cells": [
  {
   "cell_type": "code",
   "execution_count": 1,
   "metadata": {},
   "outputs": [
    {
     "name": "stdout",
     "output_type": "stream",
     "text": [
      "dict_keys(['SCALERANK', 'NATSCALE', 'LABELRANK', 'FEATURECLA', 'NAME', 'NAMEPAR', 'NAMEALT', 'DIFFASCII', 'NAMEASCII', 'ADM0CAP', 'CAPIN', 'WORLDCITY', 'MEGACITY', 'SOV0NAME', 'SOV_A3', 'ADM0NAME', 'ADM0_A3', 'ADM1NAME', 'ISO_A2', 'NOTE', 'LATITUDE', 'LONGITUDE', 'CHANGED', 'NAMEDIFF', 'DIFFNOTE', 'POP_MAX', 'POP_MIN', 'POP_OTHER', 'RANK_MAX', 'RANK_MIN', 'GEONAMEID', 'MEGANAME', 'LS_NAME', 'LS_MATCH', 'CHECKME', 'MAX_POP10', 'MAX_POP20', 'MAX_POP50', 'MAX_POP300', 'MAX_POP310', 'MAX_NATSCA', 'MIN_AREAKM', 'MAX_AREAKM', 'MIN_AREAMI', 'MAX_AREAMI', 'MIN_PERKM', 'MAX_PERKM', 'MIN_PERMI', 'MAX_PERMI', 'MIN_BBXMIN', 'MAX_BBXMIN', 'MIN_BBXMAX', 'MAX_BBXMAX', 'MIN_BBYMIN', 'MAX_BBYMIN', 'MIN_BBYMAX', 'MAX_BBYMAX', 'MEAN_BBXC', 'MEAN_BBYC', 'COMPARE', 'GN_ASCII', 'FEATURE_CL', 'FEATURE_CO', 'ADMIN1_COD', 'GN_POP', 'ELEVATION', 'GTOPO30', 'TIMEZONE', 'GEONAMESNO', 'UN_FID', 'UN_ADM0', 'UN_LAT', 'UN_LONG', 'POP1950', 'POP1955', 'POP1960', 'POP1965', 'POP1970', 'POP1975', 'POP1980', 'POP1985', 'POP1990', 'POP1995', 'POP2000', 'POP2005', 'POP2010', 'POP2015', 'POP2020', 'POP2025', 'POP2050', 'CITYALT', 'min_zoom', 'wikidataid', 'wof_id', 'CAPALT', 'name_en', 'name_de', 'name_es', 'name_fr', 'name_pt', 'name_ru', 'name_zh', 'label', 'name_ar', 'name_bn', 'name_el', 'name_hi', 'name_hu', 'name_id', 'name_it', 'name_ja', 'name_ko', 'name_nl', 'name_pl', 'name_sv', 'name_tr', 'name_vi', 'wdid_score', 'ne_id'])\n"
     ]
    }
   ],
   "source": [
    "import json\n",
    "import pprint\n",
    "\n",
    "with open('cities_usa_Scale8.topo.json') as f:\n",
    "    d = json.load(f)\n",
    "    print(d['objects']['citiesScale8']['geometries'][0][\"properties\"].keys())\n",
    "#    pprint.pprint(d)"
   ]
  },
  {
   "cell_type": "code",
   "execution_count": null,
   "metadata": {},
   "outputs": [],
   "source": []
  },
  {
   "cell_type": "code",
   "execution_count": 12,
   "metadata": {},
   "outputs": [
    {
     "name": "stdout",
     "output_type": "stream",
     "text": [
      "Number cities: 5805\n",
      "North Platte\n",
      "Write ..\n"
     ]
    }
   ],
   "source": [
    "with open('US_cities_States20190708.json', \"r\") as f:\n",
    "    cities = json.load(f)\n",
    "    \n",
    "    with open('cities_usa_Scale8.topo.json') as g:\n",
    "        topo = json.load(g)\n",
    "        print(\"Number cities:\", len(cities))\n",
    "           \n",
    "        for i in range(len(topo['objects']['citiesScale8']['geometries'])):\n",
    "            if \"North\" in topo['objects']['citiesScale8']['geometries'][i][\"properties\"][\"NAME\"]:\n",
    "                print(topo['objects']['citiesScale8']['geometries'][i][\"properties\"][\"NAME\"])\n",
    "            # correct wrong geolocalised North Platte to Lincoln in Nebraska\n",
    "            if topo['objects']['citiesScale8']['geometries'][i][\"properties\"][\"NAME\"] == \"Lincoln\" and topo['objects']['citiesScale8']['geometries'][i][\"properties\"][\"ADM1NAME\"] == \"Nebraska\":\n",
    "                #print(topo['objects']['citiesScale8']['geometries'][i][\"properties\"])\n",
    "                    \n",
    "                for city in cities:\n",
    "                    if city[\"city_name\"] == \"North Platte\": \n",
    "                        topo['objects']['citiesScale8']['geometries'][i][\"properties\"][\"count\"] = city[\"count\"]\n",
    "                        topo['objects']['citiesScale8']['geometries'][i][\"properties\"][\"population\"] = city[\"population\"]\n",
    "                        break\n",
    "            \n",
    "            elif topo['objects']['citiesScale8']['geometries'][i][\"properties\"][\"NAME\"] == \"Big Spring\": pass # partially wrong\n",
    "            elif topo['objects']['citiesScale8']['geometries'][i][\"properties\"][\"NAME\"] == \"Twin Falls\": pass # partially wrong\n",
    "            elif topo['objects']['citiesScale8']['geometries'][i][\"properties\"][\"NAME\"] == \"North Platte\": pass # partially wrong\n",
    "            elif topo['objects']['citiesScale8']['geometries'][i][\"properties\"][\"NAME\"] == \"Norman\": pass # partially wrong\n",
    "            elif topo['objects']['citiesScale8']['geometries'][i][\"properties\"][\"NAME\"] == \"Provo\": pass # partially wrong\n",
    "       \n",
    "            \n",
    "            \n",
    "            else:\n",
    "                for city in cities:    \n",
    "                \n",
    "                    # Check that New York is considered. Might be written: New York City\n",
    "                    if city[\"city_name\"] == topo['objects']['citiesScale8']['geometries'][i][\"properties\"][\"NAME\"]:\n",
    "\n",
    "                        topo['objects']['citiesScale8']['geometries'][i][\"properties\"][\"count\"] = city[\"count\"]\n",
    "                        topo['objects']['citiesScale8']['geometries'][i][\"properties\"][\"population\"] = city[\"population\"]\n",
    "            \n",
    "        print(\"Write ..\")    \n",
    "        with open('cities_usa_Scale8_CountPopul_20190708.topo.json', 'w', encoding='utf-8') as wr:\n",
    "            json.dump(topo, wr, ensure_ascii=False, indent=4)"
   ]
  },
  {
   "cell_type": "code",
   "execution_count": null,
   "metadata": {},
   "outputs": [],
   "source": [
    "                      "
   ]
  }
 ],
 "metadata": {
  "kernelspec": {
   "display_name": "Python 3",
   "language": "python",
   "name": "python3"
  },
  "language_info": {
   "codemirror_mode": {
    "name": "ipython",
    "version": 3
   },
   "file_extension": ".py",
   "mimetype": "text/x-python",
   "name": "python",
   "nbconvert_exporter": "python",
   "pygments_lexer": "ipython3",
   "version": "3.7.3"
  }
 },
 "nbformat": 4,
 "nbformat_minor": 2
}
